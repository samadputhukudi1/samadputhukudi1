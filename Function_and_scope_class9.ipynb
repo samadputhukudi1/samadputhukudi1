{
  "nbformat": 4,
  "nbformat_minor": 0,
  "metadata": {
    "colab": {
      "provenance": [],
      "include_colab_link": true
    },
    "kernelspec": {
      "name": "python3",
      "display_name": "Python 3"
    },
    "language_info": {
      "name": "python"
    }
  },
  "cells": [
    {
      "cell_type": "markdown",
      "metadata": {
        "id": "view-in-github",
        "colab_type": "text"
      },
      "source": [
        "<a href=\"https://colab.research.google.com/github/samadputhukudi1/samadputhukudi1/blob/main/Function_and_scope_class9.ipynb\" target=\"_parent\"><img src=\"https://colab.research.google.com/assets/colab-badge.svg\" alt=\"Open In Colab\"/></a>"
      ]
    },
    {
      "cell_type": "code",
      "execution_count": 1,
      "metadata": {
        "colab": {
          "base_uri": "https://localhost:8080/"
        },
        "id": "VIjKF4N46UBK",
        "outputId": "bcc55f20-b868-4573-a50e-e686e437dcfc"
      },
      "outputs": [
        {
          "output_type": "stream",
          "name": "stdout",
          "text": [
            "120\n"
          ]
        }
      ],
      "source": [
        "n = 5\n",
        "k = 1\n",
        "for i in range(1,n+1):\n",
        "  k = k*i\n",
        "\n",
        "print(k)"
      ]
    },
    {
      "cell_type": "code",
      "source": [
        "n = 10\n",
        "k = 1\n",
        "for i in range(1,n+1):\n",
        "  k = k*i\n",
        "\n",
        "print(k)"
      ],
      "metadata": {
        "colab": {
          "base_uri": "https://localhost:8080/"
        },
        "id": "DY42lxCc6uaX",
        "outputId": "296d7fbb-8762-43f2-9571-c67a364b811b"
      },
      "execution_count": 2,
      "outputs": [
        {
          "output_type": "stream",
          "name": "stdout",
          "text": [
            "3628800\n"
          ]
        }
      ]
    },
    {
      "cell_type": "code",
      "source": [
        "n = 6\n",
        "k = 1\n",
        "for i in range(1,n+1):\n",
        "  k = k*i\n",
        "\n",
        "print(k)"
      ],
      "metadata": {
        "colab": {
          "base_uri": "https://localhost:8080/"
        },
        "id": "W-XfxLE168Qu",
        "outputId": "926d8d7f-bdaa-47de-b089-1e34288cb444"
      },
      "execution_count": 3,
      "outputs": [
        {
          "output_type": "stream",
          "name": "stdout",
          "text": [
            "720\n"
          ]
        }
      ]
    },
    {
      "cell_type": "code",
      "source": [
        "def fec(n):\n",
        "  k = 1\n",
        "  for i in range(1,n+1):\n",
        "    k = k*i\n",
        "\n",
        "  return(k)"
      ],
      "metadata": {
        "id": "fXf9urKS6-Jw"
      },
      "execution_count": 4,
      "outputs": []
    },
    {
      "cell_type": "code",
      "source": [
        "fec(5)"
      ],
      "metadata": {
        "colab": {
          "base_uri": "https://localhost:8080/"
        },
        "id": "amrdUu8c7fFz",
        "outputId": "8db79528-cda5-4acb-ab6d-d018238ac592"
      },
      "execution_count": 5,
      "outputs": [
        {
          "output_type": "execute_result",
          "data": {
            "text/plain": [
              "120"
            ]
          },
          "metadata": {},
          "execution_count": 5
        }
      ]
    },
    {
      "cell_type": "code",
      "source": [
        "fec(6)"
      ],
      "metadata": {
        "colab": {
          "base_uri": "https://localhost:8080/"
        },
        "id": "YVHeb7bU7f46",
        "outputId": "9efbc7a7-ceb5-4dfd-cb5d-5c920199e67b"
      },
      "execution_count": 6,
      "outputs": [
        {
          "output_type": "execute_result",
          "data": {
            "text/plain": [
              "720"
            ]
          },
          "metadata": {},
          "execution_count": 6
        }
      ]
    },
    {
      "cell_type": "code",
      "source": [],
      "metadata": {
        "id": "avsYk4W97heA"
      },
      "execution_count": 6,
      "outputs": []
    },
    {
      "cell_type": "markdown",
      "metadata": {
        "id": "if7mXXYjlI5a"
      },
      "source": [
        "# Functions\n",
        "\n",
        "Functions will be one of our main building blocks when we construct larger and larger amounts of code to solve problems.\n",
        "\n",
        "**So what is a function?**\n",
        "\n",
        "Formally, a function is a useful device that groups together a set of statements so they can be run more than once. They can also let us specify parameters that can serve as inputs to the functions.\n",
        "\n",
        "On a more fundamental level, functions allow us to not have to repeatedly write the same code again and again. If you remember back to the lessons on strings and lists, remember that we used a function <code>len()</code> to get the length of a string. Since checking the length of a sequence is a common task you would want to write a function that can do this repeatedly at command.\n",
        "\n",
        "Functions will be one of the most basic levels of **reusing code in Python**."
      ]
    },
    {
      "cell_type": "markdown",
      "metadata": {
        "id": "LQDR0mzFlI5f"
      },
      "source": [
        "## <code>def</code> Statements\n",
        "\n",
        "Let's see how to build out a function's syntax in Python. It has the following form:"
      ]
    },
    {
      "cell_type": "markdown",
      "metadata": {
        "id": "q8gKQsbFlI53"
      },
      "source": [
        "* We begin with <code>def</code> then a space followed by the name of the function. Try to keep names relevant, for example <code>len()</code> is a good name for a <code>length()</code> function. Also be careful with names, you wouldn't want to call a function the same name as a [built-in function in Python](https://docs.python.org/2/library/functions.html) (such as len).\n",
        "\n",
        "* Next come a pair of parentheses with a number of arguments separated by a comma. These arguments are the inputs for your function. You'll be able to use these inputs in your function and reference them. After this you put a colon.\n",
        "\n",
        "* Now here is the important step, you must indent to begin the code inside your function correctly. Python makes use of *whitespace* to organize code. Lots of other programing languages do not do this, so keep that in mind.\n",
        "\n",
        "* Next you'll see the docstring, this is where you write a basic description of the function. Using iPython and iPython Notebooks, you'll be able to read these docstrings by pressing Shift+Tab after a function name. Docstrings are not necessary for simple functions, but it's good practice to put them in so you or other people can easily understand the code you write.\n",
        "\n",
        "After all this you begin writing the code you wish to execute.\n",
        "\n",
        "* The best way to learn functions is by going through examples. So let's try to go through examples that relate back to the various objects and data structures we learned about before.\n",
        "\n",
        "* <code>return</code> allows a function to *return* a result that can then be stored as a variable, or used in whatever manner a user wants."
      ]
    },
    {
      "cell_type": "markdown",
      "metadata": {
        "id": "AZAGdrxAlI57"
      },
      "source": [
        "## <u>Example 1</u>: Extract a list of first letters from a sentence"
      ]
    },
    {
      "cell_type": "code",
      "source": [
        "a = 'Extract a list of first letters from a sentence'\n",
        "\n",
        "a = a.split(' ')\n",
        "k = []\n",
        "for i in a:\n",
        "  k.append(i[0])\n",
        "print(k)"
      ],
      "metadata": {
        "colab": {
          "base_uri": "https://localhost:8080/"
        },
        "id": "wY1pBsjW8p4D",
        "outputId": "233c0092-0a60-4652-cb83-c83c04e23998"
      },
      "execution_count": 7,
      "outputs": [
        {
          "output_type": "stream",
          "name": "stdout",
          "text": [
            "['E', 'a', 'l', 'o', 'f', 'l', 'f', 'a', 's']\n"
          ]
        }
      ]
    },
    {
      "cell_type": "code",
      "source": [
        "def first_letter(a):\n",
        "  a = a.split(' ')\n",
        "  k = []\n",
        "  for i in a:\n",
        "    k.append(i[0])\n",
        "  return (k)"
      ],
      "metadata": {
        "id": "HaP2R3VG-V0u"
      },
      "execution_count": 8,
      "outputs": []
    },
    {
      "cell_type": "code",
      "source": [
        "nskjfdkj = 'i am a good boy'\n",
        "\n",
        "first_letter(nskjfdkj)"
      ],
      "metadata": {
        "colab": {
          "base_uri": "https://localhost:8080/"
        },
        "id": "x8RjOdDa-bsM",
        "outputId": "f4efaa07-7148-483a-dea2-134425369cae"
      },
      "execution_count": 9,
      "outputs": [
        {
          "output_type": "execute_result",
          "data": {
            "text/plain": [
              "['i', 'a', 'a', 'g', 'b']"
            ]
          },
          "metadata": {},
          "execution_count": 9
        }
      ]
    },
    {
      "cell_type": "code",
      "source": [
        "s = 'Automatic saving failed. This file was updated remotely or in another tab.'\n",
        "\n",
        "first_letter(s)"
      ],
      "metadata": {
        "colab": {
          "base_uri": "https://localhost:8080/"
        },
        "id": "qzFhVwja_vXT",
        "outputId": "4b981ac1-7a76-4658-e9a2-18f1be6fd796"
      },
      "execution_count": 10,
      "outputs": [
        {
          "output_type": "execute_result",
          "data": {
            "text/plain": [
              "['A', 's', 'f', 'T', 'f', 'w', 'u', 'r', 'o', 'i', 'a', 't']"
            ]
          },
          "metadata": {},
          "execution_count": 10
        }
      ]
    },
    {
      "cell_type": "code",
      "source": [],
      "metadata": {
        "id": "LJ33Dz12_8UC"
      },
      "execution_count": 10,
      "outputs": []
    },
    {
      "cell_type": "markdown",
      "metadata": {
        "id": "vLhxFqE_lI8o"
      },
      "source": [
        "##<u> Example 4 </u>: Let us write a function with multiple return statements"
      ]
    },
    {
      "cell_type": "code",
      "source": [
        "n = 11\n",
        "if n%2 == 0:\n",
        "  print('Even')\n",
        "else:\n",
        "  print('Odd')"
      ],
      "metadata": {
        "colab": {
          "base_uri": "https://localhost:8080/"
        },
        "id": "cqonKu47_82K",
        "outputId": "b0ea98f7-3de3-41b2-abc4-d7ee62305eb5"
      },
      "execution_count": 11,
      "outputs": [
        {
          "output_type": "stream",
          "name": "stdout",
          "text": [
            "Odd\n"
          ]
        }
      ]
    },
    {
      "cell_type": "code",
      "source": [
        "def even_odd(n):\n",
        "  if n%2 == 0:\n",
        "    return ('Even')\n",
        "  else:\n",
        "    return ('Odd')"
      ],
      "metadata": {
        "id": "lpDtly1WAPPw"
      },
      "execution_count": 12,
      "outputs": []
    },
    {
      "cell_type": "code",
      "source": [
        "even_odd(100)"
      ],
      "metadata": {
        "colab": {
          "base_uri": "https://localhost:8080/",
          "height": 35
        },
        "id": "Q1ABE6twAwNI",
        "outputId": "183f02a5-30e1-496e-de38-9e537c9812ce"
      },
      "execution_count": 13,
      "outputs": [
        {
          "output_type": "execute_result",
          "data": {
            "text/plain": [
              "'Even'"
            ],
            "application/vnd.google.colaboratory.intrinsic+json": {
              "type": "string"
            }
          },
          "metadata": {},
          "execution_count": 13
        }
      ]
    },
    {
      "cell_type": "code",
      "source": [
        "even_odd(101)"
      ],
      "metadata": {
        "colab": {
          "base_uri": "https://localhost:8080/",
          "height": 35
        },
        "id": "HMRhvipAA539",
        "outputId": "ca3ec104-789a-40dc-e9a6-20d6b8b49fa6"
      },
      "execution_count": 14,
      "outputs": [
        {
          "output_type": "execute_result",
          "data": {
            "text/plain": [
              "'Odd'"
            ],
            "application/vnd.google.colaboratory.intrinsic+json": {
              "type": "string"
            }
          },
          "metadata": {},
          "execution_count": 14
        }
      ]
    },
    {
      "cell_type": "code",
      "source": [],
      "metadata": {
        "id": "UUKUrMLRBV0M"
      },
      "execution_count": 14,
      "outputs": []
    },
    {
      "cell_type": "markdown",
      "metadata": {
        "id": "kn2VVLuulI_e"
      },
      "source": [
        "##<u> Example 6</u>: Now let us write a function which adds an element to a list. This functions takes the list as an argument and the element to be added"
      ]
    },
    {
      "cell_type": "code",
      "source": [
        "a = [1,2,3,4]\n",
        "b = 10\n",
        "\n",
        "a = a+[b]\n",
        "print(a)"
      ],
      "metadata": {
        "colab": {
          "base_uri": "https://localhost:8080/"
        },
        "id": "s8ifmG1XBWdI",
        "outputId": "2c387e06-7543-4417-be30-3ee99bdacd5a"
      },
      "execution_count": 15,
      "outputs": [
        {
          "output_type": "stream",
          "name": "stdout",
          "text": [
            "[1, 2, 3, 4, 10]\n"
          ]
        }
      ]
    },
    {
      "cell_type": "code",
      "source": [
        "def custom_append(a,b):\n",
        "  a = a+[b]\n",
        "  return(a)"
      ],
      "metadata": {
        "id": "rdrCPQWuBhFD"
      },
      "execution_count": 16,
      "outputs": []
    },
    {
      "cell_type": "code",
      "source": [
        "s = [10,20,30,40]\n",
        "k = 100\n",
        "custom_append(s,k)"
      ],
      "metadata": {
        "colab": {
          "base_uri": "https://localhost:8080/"
        },
        "id": "rha0cnyaB5tz",
        "outputId": "1028f310-be3a-45c9-f5c5-330c38eb64a9"
      },
      "execution_count": 17,
      "outputs": [
        {
          "output_type": "execute_result",
          "data": {
            "text/plain": [
              "[10, 20, 30, 40, 100]"
            ]
          },
          "metadata": {},
          "execution_count": 17
        }
      ]
    },
    {
      "cell_type": "code",
      "source": [
        "a = input()"
      ],
      "metadata": {
        "colab": {
          "base_uri": "https://localhost:8080/"
        },
        "id": "brH8P7ZdB_sK",
        "outputId": "780b069d-6bfe-48cf-9b00-d91fa4b9479c"
      },
      "execution_count": 18,
      "outputs": [
        {
          "name": "stdout",
          "output_type": "stream",
          "text": [
            "15\n"
          ]
        }
      ]
    },
    {
      "cell_type": "code",
      "source": [
        "print(a)\n",
        "print(type(int(a)))"
      ],
      "metadata": {
        "colab": {
          "base_uri": "https://localhost:8080/"
        },
        "id": "Yc9sKVfECKMK",
        "outputId": "aebb2773-c799-4f47-fcf6-f9c4d113754f"
      },
      "execution_count": 19,
      "outputs": [
        {
          "output_type": "stream",
          "name": "stdout",
          "text": [
            "15\n",
            "<class 'int'>\n"
          ]
        }
      ]
    },
    {
      "cell_type": "code",
      "source": [],
      "metadata": {
        "id": "yaA41GHjCRoL"
      },
      "execution_count": null,
      "outputs": []
    },
    {
      "cell_type": "markdown",
      "metadata": {
        "id": "NWPhYNATjbA5"
      },
      "source": [
        "## Let us find out what are the differences between functions and methods\n",
        "\n",
        "* Function and method both look similar as they perform in an almost similar way, but the key difference is the concept of ‘Class and its Object’. Functions can be called only by its name, as it is defined independently. But methods cannot be called by its name only we need to invoke the class by reference of that class in which it is defined, that is, the method is defined within a class and hence they are dependent on that class.\n",
        "\n",
        "* A method is called by its name but it is associated with an object (dependent). It is implicitly passed to an object on which it is invoked. It may or may not return any data. A method can operate the data (instance variables) that is contained by the corresponding class."
      ]
    },
    {
      "cell_type": "code",
      "source": [
        "# Function\n",
        "len()\n",
        "print()\n",
        "custom_append()\n",
        "\n",
        "\n",
        "# Method\n",
        ".append()\n",
        ".count()\n",
        ".index()\n",
        ".insert()\n",
        ".pop()\n",
        ".remove()\n",
        ".reverse()\n",
        ".sort()"
      ],
      "metadata": {
        "id": "idkTb4ZXDNxh"
      },
      "execution_count": 21,
      "outputs": []
    },
    {
      "cell_type": "markdown",
      "metadata": {
        "id": "BO25ViQ7lI36"
      },
      "source": [
        "# Methods\n",
        "\n",
        "We've already seen a few example of methods when learning about lists in Python. Methods are essentially functions built into objects.\n",
        "\n",
        "Methods perform specific actions on an object and can also take arguments, just like a function.\n",
        "\n",
        "Methods are of the form:\n",
        "\n",
        "    object.method(arg1,arg2,etc...)"
      ]
    },
    {
      "cell_type": "code",
      "source": [
        "a = [1,2,3,4,5,6]\n",
        "b = 100\n",
        "index1 = 4\n",
        "\n",
        "\n",
        "k = a[:index1]+[b]+a[index1:]\n",
        "print(k)"
      ],
      "metadata": {
        "colab": {
          "base_uri": "https://localhost:8080/"
        },
        "id": "M8KQl1SFE7SY",
        "outputId": "52cfe57e-6ceb-4b36-fe83-e0e3183f2d67"
      },
      "execution_count": 22,
      "outputs": [
        {
          "output_type": "stream",
          "name": "stdout",
          "text": [
            "[1, 2, 3, 4, 100, 5, 6]\n"
          ]
        }
      ]
    },
    {
      "cell_type": "code",
      "source": [
        "def replace1(a,b,index1):\n",
        "  k = a[:index1]+[b]+a[index1:]\n",
        "  return(k)"
      ],
      "metadata": {
        "id": "gIEoqzyYFKl8"
      },
      "execution_count": 23,
      "outputs": []
    },
    {
      "cell_type": "code",
      "source": [],
      "metadata": {
        "id": "LJREKZfYHkf0"
      },
      "execution_count": 22,
      "outputs": []
    },
    {
      "cell_type": "markdown",
      "metadata": {
        "id": "evEjAvNelJAi"
      },
      "source": [
        "# Scope\n",
        "\n",
        "Now that we have gone over writing our own functions, it's important to understand how Python deals with the variable names you assign. When you create a variable name in Python the name is stored in a *name-space*. Variable names also have a *scope*, the scope determines the visibility of that variable name to other parts of your code.\n",
        "\n",
        "Let's start with a quick thought experiment; imagine the following code:"
      ]
    },
    {
      "cell_type": "code",
      "source": [
        "# Local Var\n",
        "def example():\n",
        "  ak = 10\n",
        "  return (ak)"
      ],
      "metadata": {
        "id": "DLwRux5YHlHy"
      },
      "execution_count": 24,
      "outputs": []
    },
    {
      "cell_type": "code",
      "source": [
        "example()"
      ],
      "metadata": {
        "colab": {
          "base_uri": "https://localhost:8080/"
        },
        "id": "-LzmMy8vH_-p",
        "outputId": "aebeb387-06ed-4cda-e927-8d90bb8c0ec9"
      },
      "execution_count": 25,
      "outputs": [
        {
          "output_type": "execute_result",
          "data": {
            "text/plain": [
              "10"
            ]
          },
          "metadata": {},
          "execution_count": 25
        }
      ]
    },
    {
      "cell_type": "code",
      "source": [],
      "metadata": {
        "id": "Afj7z68AIB_1"
      },
      "execution_count": 25,
      "outputs": []
    },
    {
      "cell_type": "code",
      "source": [
        "# Global\n",
        "s = 10"
      ],
      "metadata": {
        "id": "gcG47JwFIDRz"
      },
      "execution_count": null,
      "outputs": []
    },
    {
      "cell_type": "code",
      "source": [
        "print(s)"
      ],
      "metadata": {
        "colab": {
          "base_uri": "https://localhost:8080/"
        },
        "id": "02zFDw1kIPgZ",
        "outputId": "c442faf3-040c-4562-f48e-d86add06bbfe"
      },
      "execution_count": null,
      "outputs": [
        {
          "output_type": "stream",
          "name": "stdout",
          "text": [
            "10\n"
          ]
        }
      ]
    },
    {
      "cell_type": "code",
      "source": [
        "def example():\n",
        "  global x\n",
        "  x = 10\n",
        "  return x"
      ],
      "metadata": {
        "id": "LEkN-MKMIRT0"
      },
      "execution_count": 26,
      "outputs": []
    },
    {
      "cell_type": "code",
      "source": [],
      "metadata": {
        "id": "xfbPOAQzIbMF"
      },
      "execution_count": 27,
      "outputs": []
    },
    {
      "cell_type": "code",
      "source": [
        "def ex():\n",
        "  global x\n",
        "  x = 10\n",
        "  return x"
      ],
      "metadata": {
        "id": "X2i87lSAIdAF"
      },
      "execution_count": 28,
      "outputs": []
    },
    {
      "cell_type": "code",
      "source": [
        "ex()"
      ],
      "metadata": {
        "colab": {
          "base_uri": "https://localhost:8080/"
        },
        "id": "xBKQMeyjI7N_",
        "outputId": "69e85fd6-ef53-4975-fdf0-c985d3287750"
      },
      "execution_count": 29,
      "outputs": [
        {
          "output_type": "execute_result",
          "data": {
            "text/plain": [
              "10"
            ]
          },
          "metadata": {},
          "execution_count": 29
        }
      ]
    },
    {
      "cell_type": "code",
      "source": [
        "x"
      ],
      "metadata": {
        "colab": {
          "base_uri": "https://localhost:8080/"
        },
        "id": "JFUwoQdwI73J",
        "outputId": "2af85fab-20ca-47e6-cb46-acebb0c8b882"
      },
      "execution_count": 30,
      "outputs": [
        {
          "output_type": "execute_result",
          "data": {
            "text/plain": [
              "10"
            ]
          },
          "metadata": {},
          "execution_count": 30
        }
      ]
    },
    {
      "cell_type": "code",
      "source": [],
      "metadata": {
        "id": "LwnV8Q2YI8UE"
      },
      "execution_count": null,
      "outputs": []
    }
  ]
}