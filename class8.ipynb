{
  "nbformat": 4,
  "nbformat_minor": 0,
  "metadata": {
    "colab": {
      "provenance": [],
      "authorship_tag": "ABX9TyOcbfr3gBMzqt/Tzu8QkQu7",
      "include_colab_link": true
    },
    "kernelspec": {
      "name": "python3",
      "display_name": "Python 3"
    },
    "language_info": {
      "name": "python"
    }
  },
  "cells": [
    {
      "cell_type": "markdown",
      "metadata": {
        "id": "view-in-github",
        "colab_type": "text"
      },
      "source": [
        "<a href=\"https://colab.research.google.com/github/samadputhukudi1/samadputhukudi1/blob/main/class8.ipynb\" target=\"_parent\"><img src=\"https://colab.research.google.com/assets/colab-badge.svg\" alt=\"Open In Colab\"/></a>"
      ]
    },
    {
      "cell_type": "code",
      "execution_count": 1,
      "metadata": {
        "id": "VmylNMvVDkXM"
      },
      "outputs": [],
      "source": [
        "final = {0:\" \",1:'a', 2:'b', 3:'c', 4:'d', 5:'e', 6:'f', 7:'g', 8:'h',\n",
        "                 9:'i', 10:'j', 11:'k', 12:'l', 13:'m',14:'n', 15:'o', 16:'p',\n",
        "                 17:'q', 18:'r', 19:'s',20:'t', 21:'u', 22:'v', 23:'w', 24:'x', 25:'y', 26:'z'}\n",
        "\n"
      ]
    },
    {
      "cell_type": "code",
      "source": [
        "final [3]"
      ],
      "metadata": {
        "colab": {
          "base_uri": "https://localhost:8080/",
          "height": 35
        },
        "id": "IVn0hCNzHtgi",
        "outputId": "c6219441-f1d3-487f-89ef-fb4a7bdacf8b"
      },
      "execution_count": 2,
      "outputs": [
        {
          "output_type": "execute_result",
          "data": {
            "text/plain": [
              "'c'"
            ],
            "application/vnd.google.colaboratory.intrinsic+json": {
              "type": "string"
            }
          },
          "metadata": {},
          "execution_count": 2
        }
      ]
    },
    {
      "cell_type": "code",
      "source": [
        "final [8]"
      ],
      "metadata": {
        "colab": {
          "base_uri": "https://localhost:8080/",
          "height": 35
        },
        "id": "L8VGSS6NH2nk",
        "outputId": "496634d8-abac-48f7-f759-d63c6900146e"
      },
      "execution_count": 3,
      "outputs": [
        {
          "output_type": "execute_result",
          "data": {
            "text/plain": [
              "'h'"
            ],
            "application/vnd.google.colaboratory.intrinsic+json": {
              "type": "string"
            }
          },
          "metadata": {},
          "execution_count": 3
        }
      ]
    },
    {
      "cell_type": "code",
      "source": [
        "final.items()"
      ],
      "metadata": {
        "colab": {
          "base_uri": "https://localhost:8080/"
        },
        "id": "dVXNbliqIxAH",
        "outputId": "9632a689-c051-4880-df99-e06490786e7a"
      },
      "execution_count": 4,
      "outputs": [
        {
          "output_type": "execute_result",
          "data": {
            "text/plain": [
              "dict_items([(0, ' '), (1, 'a'), (2, 'b'), (3, 'c'), (4, 'd'), (5, 'e'), (6, 'f'), (7, 'g'), (8, 'h'), (9, 'i'), (10, 'j'), (11, 'k'), (12, 'l'), (13, 'm'), (14, 'n'), (15, 'o'), (16, 'p'), (17, 'q'), (18, 'r'), (19, 's'), (20, 't'), (21, 'u'), (22, 'v'), (23, 'w'), (24, 'x'), (25, 'y'), (26, 'z')])"
            ]
          },
          "metadata": {},
          "execution_count": 4
        }
      ]
    },
    {
      "cell_type": "code",
      "source": [
        "for i,j in final.items():\n",
        "  if j =='h':\n",
        "    print(i)"
      ],
      "metadata": {
        "colab": {
          "base_uri": "https://localhost:8080/"
        },
        "id": "INyv3LzqIIkp",
        "outputId": "7a1ed42e-f9de-46dd-8787-23e0b51039f6"
      },
      "execution_count": 5,
      "outputs": [
        {
          "output_type": "stream",
          "name": "stdout",
          "text": [
            "8\n"
          ]
        }
      ]
    },
    {
      "cell_type": "code",
      "source": [
        "encrypyted_message = (\"ajsuydtbe\", \"\", \"wunjbfusnjrgut\", \"uhbhr\", \"oirun\", \"lpef\", \"\", \"vhejsibr\", \"ydtse\", \"qlvuusrntuos\", \"ijwlbutybhlsoaxh\")"
      ],
      "metadata": {
        "id": "NezXLatzJXEg"
      },
      "execution_count": 6,
      "outputs": []
    },
    {
      "cell_type": "code",
      "source": [
        "encrypted_massage = {\"ajureajyt\", \"\", \"aeartyyuopwers\", \"ubers\", \"devoyr\", \"ders\", \"\", \"wersatee\",\"dears\",\"reversorders\", \"serjicalmovement\"}\n",
        "sms1 = []\n",
        "for i in encrypyted_message:\n",
        "  sms1.append(len(i))\n",
        "\n",
        "print(sms1)\n",
        "\n",
        "st1 = ''\n",
        "for i in sms1:\n",
        "  st1 = st1 + (final[i])\n",
        "\n",
        "print(st1)"
      ],
      "metadata": {
        "colab": {
          "base_uri": "https://localhost:8080/"
        },
        "id": "Wu3xWrgIP804",
        "outputId": "9d23b11e-95c5-4a58-c1af-116c2b2297b5"
      },
      "execution_count": 7,
      "outputs": [
        {
          "output_type": "stream",
          "name": "stdout",
          "text": [
            "[9, 0, 14, 5, 5, 4, 0, 8, 5, 12, 16]\n",
            "i need help\n"
          ]
        }
      ]
    },
    {
      "cell_type": "code",
      "source": [
        "a = ['w','h','y']\n",
        "\n",
        "\n",
        "sms2 = []\n",
        "for k in a:\n",
        "  for i,j in final.items():\n",
        "    if j == k:\n",
        "      sms2.append(i)\n",
        "\n",
        "print(sms2)"
      ],
      "metadata": {
        "colab": {
          "base_uri": "https://localhost:8080/"
        },
        "id": "jUN4YBC3dbA6",
        "outputId": "90c9eb77-d18b-4755-eefa-5116c7d0ff27"
      },
      "execution_count": 8,
      "outputs": [
        {
          "output_type": "stream",
          "name": "stdout",
          "text": [
            "[23, 8, 25]\n"
          ]
        }
      ]
    },
    {
      "cell_type": "code",
      "source": [
        "em = []\n",
        "\n",
        "for i in sms2:\n",
        "  em.append('a'*i)\n",
        "\n",
        "print(em)"
      ],
      "metadata": {
        "colab": {
          "base_uri": "https://localhost:8080/"
        },
        "id": "DMO92RBUgQEb",
        "outputId": "ce95ba89-8e87-4b25-8b23-25ececbc6fcc"
      },
      "execution_count": 9,
      "outputs": [
        {
          "output_type": "stream",
          "name": "stdout",
          "text": [
            "['aaaaaaaaaaaaaaaaaaaaaaa', 'aaaaaaaa', 'aaaaaaaaaaaaaaaaaaaaaaaaa']\n"
          ]
        }
      ]
    },
    {
      "cell_type": "code",
      "source": [
        "jumbled_word = [\"hugdtck\", \"tsogbklesrawqcbjplu\", \"qkisrubskoaitbt\", \"nslaoetr\", \"oksinjioaendnjsdqwbh\"]"
      ],
      "metadata": {
        "id": "SzVIOg85g5L-"
      },
      "execution_count": 10,
      "outputs": []
    },
    {
      "cell_type": "code",
      "source": [
        "jumbled_word = [\"hugdtck\", \"tsogbklesrawqcbjplu\", \"qkisrubskoaitbt\", \"nslaoetr\", \"oksinjioaendnjsdqwbh\"]\n",
        "\n",
        "sms1 = []\n",
        "for i in jumbled_word:\n",
        "  sms1.append(len(i))\n",
        "\n",
        "sms1 = sorted(sms1)\n",
        "\n",
        "st1 = ''\n",
        "for i in sms1:\n",
        "  st1 = st1 + (final[i])\n",
        "\n",
        "print(st1)"
      ],
      "metadata": {
        "colab": {
          "base_uri": "https://localhost:8080/"
        },
        "id": "aEiusMWDhbjj",
        "outputId": "1b929921-3df3-4655-e36f-566d52d09ee3"
      },
      "execution_count": 11,
      "outputs": [
        {
          "output_type": "stream",
          "name": "stdout",
          "text": [
            "ghost\n"
          ]
        }
      ]
    },
    {
      "cell_type": "code",
      "source": [
        "print(f'I saw a {st1} please help me soon')"
      ],
      "metadata": {
        "colab": {
          "base_uri": "https://localhost:8080/"
        },
        "collapsed": true,
        "id": "vv5e5Srhiztf",
        "outputId": "1252ba93-65e6-4436-d17f-45719096f6cd"
      },
      "execution_count": 12,
      "outputs": [
        {
          "output_type": "stream",
          "name": "stdout",
          "text": [
            "I saw a ghost please help me soon\n"
          ]
        }
      ]
    }
  ]
}