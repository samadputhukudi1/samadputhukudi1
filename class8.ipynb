{
  "nbformat": 4,
  "nbformat_minor": 0,
  "metadata": {
    "colab": {
      "provenance": [],
      "authorship_tag": "ABX9TyOcbfr3gBMzqt/Tzu8QkQu7",
      "include_colab_link": true
    },
    "kernelspec": {
      "name": "python3",
      "display_name": "Python 3"
    },
    "language_info": {
      "name": "python"
    }
  },
  "cells": [
    {
      "cell_type": "markdown",
      "metadata": {
        "id": "view-in-github",
        "colab_type": "text"
      },
      "source": [
        "<a href=\"https://colab.research.google.com/github/samadputhukudi1/samadputhukudi1/blob/main/class8.ipynb\" target=\"_parent\"><img src=\"https://colab.research.google.com/assets/colab-badge.svg\" alt=\"Open In Colab\"/></a>"
      ]
    },
    {
      "cell_type": "code",
      "execution_count": null,
      "metadata": {
        "id": "VmylNMvVDkXM"
      },
      "outputs": [],
      "source": [
        "final = {0:\" \",1:'a', 2:'b', 3:'c', 4:'d', 5:'e', 6:'f', 7:'g', 8:'h',\n",
        "                 9:'i', 10:'j', 11:'k', 12:'l', 13:'m',14:'n', 15:'o', 16:'p',\n",
        "                 17:'q', 18:'r', 19:'s',20:'t', 21:'u', 22:'v', 23:'w', 24:'x', 25:'y', 26:'z'}\n",
        "\n"
      ]
    },
    {
      "cell_type": "code",
      "source": [
        "final [3]"
      ],
      "metadata": {
        "colab": {
          "base_uri": "https://localhost:8080/",
          "height": 35
        },
        "id": "IVn0hCNzHtgi",
        "outputId": "9d53f8e1-37e6-42fa-b764-b84f0e950e32"
      },
      "execution_count": null,
      "outputs": [
        {
          "output_type": "execute_result",
          "data": {
            "text/plain": [
              "'c'"
            ],
            "application/vnd.google.colaboratory.intrinsic+json": {
              "type": "string"
            }
          },
          "metadata": {},
          "execution_count": 24
        }
      ]
    },
    {
      "cell_type": "code",
      "source": [
        "final [8]"
      ],
      "metadata": {
        "colab": {
          "base_uri": "https://localhost:8080/",
          "height": 35
        },
        "id": "L8VGSS6NH2nk",
        "outputId": "8daab0ee-b7a8-4021-93c5-470be6ff17f5"
      },
      "execution_count": null,
      "outputs": [
        {
          "output_type": "execute_result",
          "data": {
            "text/plain": [
              "'h'"
            ],
            "application/vnd.google.colaboratory.intrinsic+json": {
              "type": "string"
            }
          },
          "metadata": {},
          "execution_count": 4
        }
      ]
    },
    {
      "cell_type": "code",
      "source": [
        "final.items()"
      ],
      "metadata": {
        "colab": {
          "base_uri": "https://localhost:8080/"
        },
        "id": "dVXNbliqIxAH",
        "outputId": "13e47c0f-44e2-4408-bc41-9371aeccfa4f"
      },
      "execution_count": null,
      "outputs": [
        {
          "output_type": "execute_result",
          "data": {
            "text/plain": [
              "dict_items([(0, ' '), (1, 'a'), (2, 'b'), (3, 'c'), (4, 'd'), (5, 'e'), (6, 'f'), (7, 'g'), (8, 'h'), (9, 'i'), (10, 'j'), (11, 'k'), (12, 'l'), (13, 'm'), (14, 'n'), (15, 'o'), (16, 'p'), (17, 'q'), (18, 'r'), (19, 's'), (20, 't'), (21, 'u'), (22, 'v'), (23, 'w'), (24, 'x'), (25, 'y'), (26, 'z')])"
            ]
          },
          "metadata": {},
          "execution_count": 33
        }
      ]
    },
    {
      "cell_type": "code",
      "source": [
        "for i,j in final.items():\n",
        "  if j =='h':\n",
        "    print(i)"
      ],
      "metadata": {
        "colab": {
          "base_uri": "https://localhost:8080/"
        },
        "id": "INyv3LzqIIkp",
        "outputId": "2cfd7fe0-7e83-4c48-98d9-b7963d10f71b"
      },
      "execution_count": null,
      "outputs": [
        {
          "output_type": "stream",
          "name": "stdout",
          "text": [
            "8\n"
          ]
        }
      ]
    },
    {
      "cell_type": "code",
      "source": [
        "encrypyted_message = (\"ajsuydtbe\", \"\", \"wunjbfusnjrgut\", \"uhbhr\", \"oirun\", \"lpef\", \"\", \"vhejsibr\", \"ydtse\", \"qlvuusrntuos\", \"ijwlbutybhlsoaxh\")"
      ],
      "metadata": {
        "id": "NezXLatzJXEg"
      },
      "execution_count": null,
      "outputs": []
    },
    {
      "cell_type": "code",
      "source": [
        "encrypted_massage = {\"ajureajyt\", \"\", \"aeartyyuopwers\", \"ubers\", \"devoyr\", \"ders\", \"\", \"wersatee\",\"dears\",\"reversorders\", \"serjicalmovement\"}\n",
        "sms1 = []\n",
        "for i in encrypyted_message:\n",
        "  sms1.append(len(i))\n",
        "\n",
        "print(sms1)\n",
        "\n",
        "st1 = ''\n",
        "for i in sms1:\n",
        "  st1 = st1 + (final[i])\n",
        "\n",
        "print(st1)"
      ],
      "metadata": {
        "colab": {
          "base_uri": "https://localhost:8080/"
        },
        "id": "Wu3xWrgIP804",
        "outputId": "4ee9c01d-1872-453e-a7bc-6870dfdd870b"
      },
      "execution_count": null,
      "outputs": [
        {
          "output_type": "stream",
          "name": "stdout",
          "text": [
            "[9, 0, 14, 5, 5, 4, 0, 8, 5, 12, 16]\n",
            "i need help\n"
          ]
        }
      ]
    },
    {
      "cell_type": "code",
      "source": [
        "a = ['w','h','y']\n",
        "\n",
        "\n",
        "sms2 = []\n",
        "for k in a:\n",
        "  for i,j in final.items():\n",
        "    if j == k:\n",
        "      sms2.append(i)\n",
        "\n",
        "print(sms2)"
      ],
      "metadata": {
        "colab": {
          "base_uri": "https://localhost:8080/"
        },
        "id": "jUN4YBC3dbA6",
        "outputId": "22de866e-19dc-4aac-bad3-cc0085cf6938"
      },
      "execution_count": null,
      "outputs": [
        {
          "output_type": "stream",
          "name": "stdout",
          "text": [
            "[23, 8, 25]\n"
          ]
        }
      ]
    },
    {
      "cell_type": "code",
      "source": [
        "em = []\n",
        "\n",
        "for i in sms2:\n",
        "  em.append('a'*i)\n",
        "\n",
        "print(em)"
      ],
      "metadata": {
        "colab": {
          "base_uri": "https://localhost:8080/"
        },
        "id": "DMO92RBUgQEb",
        "outputId": "af891ceb-3e4b-4bd9-a209-976d58c5dd37"
      },
      "execution_count": null,
      "outputs": [
        {
          "output_type": "stream",
          "name": "stdout",
          "text": [
            "['aaaaaaaaaaaaaaaaaaaaaaa', 'aaaaaaaa', 'aaaaaaaaaaaaaaaaaaaaaaaaa']\n"
          ]
        }
      ]
    },
    {
      "cell_type": "code",
      "source": [
        "jumbled_word = [\"hugdtck\", \"tsogbklesrawqcbjplu\", \"qkisrubskoaitbt\", \"nslaoetr\", \"oksinjioaendnjsdqwbh\"]"
      ],
      "metadata": {
        "id": "SzVIOg85g5L-"
      },
      "execution_count": null,
      "outputs": []
    },
    {
      "cell_type": "code",
      "source": [
        "jumbled_word = [\"hugdtck\", \"tsogbklesrawqcbjplu\", \"qkisrubskoaitbt\", \"nslaoetr\", \"oksinjioaendnjsdqwbh\"]\n",
        "\n",
        "sms1 = []\n",
        "for i in jumbled_word:\n",
        "  sms1.append(len(i))\n",
        "\n",
        "sms1 = sorted(sms1)\n",
        "\n",
        "st1 = ''\n",
        "for i in sms1:\n",
        "  st1 = st1 + (final[i])\n",
        "\n",
        "print(st1)"
      ],
      "metadata": {
        "colab": {
          "base_uri": "https://localhost:8080/"
        },
        "id": "aEiusMWDhbjj",
        "outputId": "983dc9ac-a229-4e54-88bc-482a1c2294ed"
      },
      "execution_count": null,
      "outputs": [
        {
          "output_type": "stream",
          "name": "stdout",
          "text": [
            "ghost\n"
          ]
        }
      ]
    },
    {
      "cell_type": "code",
      "source": [
        "print(f'I saw a {st1} please help me soon')"
      ],
      "metadata": {
        "colab": {
          "base_uri": "https://localhost:8080/"
        },
        "collapsed": true,
        "id": "vv5e5Srhiztf",
        "outputId": "143321f5-d77f-468b-85f8-d95d7abc7a2c"
      },
      "execution_count": null,
      "outputs": [
        {
          "output_type": "stream",
          "name": "stdout",
          "text": [
            "I saw a ghost please help me soon\n"
          ]
        }
      ]
    }
  ]
}