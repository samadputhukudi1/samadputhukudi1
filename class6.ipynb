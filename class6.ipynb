{
  "nbformat": 4,
  "nbformat_minor": 0,
  "metadata": {
    "colab": {
      "provenance": [],
      "authorship_tag": "ABX9TyPj3+TRqdqa4/o51SFJA0Rw",
      "include_colab_link": true
    },
    "kernelspec": {
      "name": "python3",
      "display_name": "Python 3"
    },
    "language_info": {
      "name": "python"
    }
  },
  "cells": [
    {
      "cell_type": "markdown",
      "metadata": {
        "id": "view-in-github",
        "colab_type": "text"
      },
      "source": [
        "<a href=\"https://colab.research.google.com/github/samadputhukudi1/samadputhukudi1/blob/main/class6.ipynb\" target=\"_parent\"><img src=\"https://colab.research.google.com/assets/colab-badge.svg\" alt=\"Open In Colab\"/></a>"
      ]
    },
    {
      "cell_type": "code",
      "execution_count": null,
      "metadata": {
        "colab": {
          "base_uri": "https://localhost:8080/"
        },
        "id": "bE1yCdpQmxIX",
        "outputId": "88d2ea37-7899-4053-e4fd-8603b3966089"
      },
      "outputs": [
        {
          "output_type": "stream",
          "name": "stdout",
          "text": [
            "values 1\n",
            "values 2\n",
            "values 3\n",
            "values 4\n",
            "values 5\n"
          ]
        }
      ],
      "source": [
        "a = [1,2,3,4,5]\n",
        "for i in a:\n",
        "  print (\"values\" ,i)\n",
        "\n"
      ]
    },
    {
      "cell_type": "code",
      "source": [
        "a = [\"mohith\", \"rohit\", \"shyam\", \"mohan\"]\n",
        "for i in a:\n",
        "  print(i)\n"
      ],
      "metadata": {
        "colab": {
          "base_uri": "https://localhost:8080/"
        },
        "id": "5-tIYN3pntet",
        "outputId": "34d0007e-f100-4d93-84ae-9deee6e2d6d5"
      },
      "execution_count": null,
      "outputs": [
        {
          "output_type": "stream",
          "name": "stdout",
          "text": [
            "mohith\n",
            "rohit\n",
            "shyam\n",
            "mohan\n"
          ]
        }
      ]
    },
    {
      "cell_type": "code",
      "source": [
        "a = [\"mohith\", \"rohit\", \"shyam\", \"mohan\"]\n",
        "for i in a:\n",
        "  print(f\"weicome to the 6th class [i] \")\n"
      ],
      "metadata": {
        "colab": {
          "base_uri": "https://localhost:8080/"
        },
        "id": "0iPMpkouqQwk",
        "outputId": "3869e519-3b8f-4925-c1e5-44ed01270044"
      },
      "execution_count": null,
      "outputs": [
        {
          "output_type": "stream",
          "name": "stdout",
          "text": [
            "weicome to the 6th class [i] \n",
            "weicome to the 6th class [i] \n",
            "weicome to the 6th class [i] \n",
            "weicome to the 6th class [i] \n"
          ]
        }
      ]
    },
    {
      "cell_type": "code",
      "source": [
        "squre = []\n",
        "a = [1,2,3,4,5,6]\n",
        "\n",
        "for i in a:\n",
        "  squre.append (i**2)\n",
        "print(squre)"
      ],
      "metadata": {
        "colab": {
          "base_uri": "https://localhost:8080/"
        },
        "id": "YJqJ0ApVr60B",
        "outputId": "5d6c7261-96b8-43f9-9958-a6121962540a"
      },
      "execution_count": null,
      "outputs": [
        {
          "output_type": "stream",
          "name": "stdout",
          "text": [
            "[1, 4, 9, 16, 25, 36]\n"
          ]
        }
      ]
    },
    {
      "cell_type": "code",
      "source": [
        "dict(zip(a,squre))"
      ],
      "metadata": {
        "colab": {
          "base_uri": "https://localhost:8080/"
        },
        "id": "rOWczcFVucUw",
        "outputId": "f3aeed22-8991-4858-bda9-a78bc2538e71"
      },
      "execution_count": null,
      "outputs": [
        {
          "output_type": "execute_result",
          "data": {
            "text/plain": [
              "{1: 1, 2: 4, 3: 9, 4: 16, 5: 25, 6: 36}"
            ]
          },
          "metadata": {},
          "execution_count": 18
        }
      ]
    },
    {
      "cell_type": "code",
      "source": [
        "a"
      ],
      "metadata": {
        "colab": {
          "base_uri": "https://localhost:8080/"
        },
        "id": "5xPe2L0uvEez",
        "outputId": "1abfaea8-c9a4-4303-a94b-8fba5d3ab8d0"
      },
      "execution_count": null,
      "outputs": [
        {
          "output_type": "execute_result",
          "data": {
            "text/plain": [
              "[1, 2, 3, 4, 5, 6]"
            ]
          },
          "metadata": {},
          "execution_count": 19
        }
      ]
    },
    {
      "cell_type": "code",
      "source": [
        "for i in a:\n",
        "  if i%2 == 0:\n",
        "    print(i**2)"
      ],
      "metadata": {
        "colab": {
          "base_uri": "https://localhost:8080/"
        },
        "id": "BSNyYny-wNhl",
        "outputId": "4231159e-61e7-433f-fd1c-c2abcad47563"
      },
      "execution_count": null,
      "outputs": [
        {
          "output_type": "stream",
          "name": "stdout",
          "text": [
            "4\n",
            "16\n",
            "36\n"
          ]
        }
      ]
    },
    {
      "cell_type": "code",
      "source": [
        "for i in a:\n",
        "  if i%2 != 0:\n",
        "    print(i**3)"
      ],
      "metadata": {
        "colab": {
          "base_uri": "https://localhost:8080/"
        },
        "id": "P_FYv5qXxw77",
        "outputId": "6f83f89e-0ece-4fa6-c73b-8d18a1328933"
      },
      "execution_count": null,
      "outputs": [
        {
          "output_type": "stream",
          "name": "stdout",
          "text": [
            "1\n",
            "27\n",
            "125\n"
          ]
        }
      ]
    },
    {
      "cell_type": "code",
      "source": [
        "for i in a:\n",
        "  if i%2 == 0:\n",
        "    print(i**2)\n",
        "  else:\n",
        "    print(i**3)"
      ],
      "metadata": {
        "colab": {
          "base_uri": "https://localhost:8080/"
        },
        "id": "utC-3oL9yNpO",
        "outputId": "2d48ab05-a832-45e1-a09c-3901d1f93982"
      },
      "execution_count": null,
      "outputs": [
        {
          "output_type": "stream",
          "name": "stdout",
          "text": [
            "1\n",
            "4\n",
            "27\n",
            "16\n",
            "125\n",
            "36\n"
          ]
        }
      ]
    },
    {
      "cell_type": "code",
      "source": [
        "list (range (0,10))"
      ],
      "metadata": {
        "colab": {
          "base_uri": "https://localhost:8080/"
        },
        "id": "A-WDaz29yzv1",
        "outputId": "61ad0aba-8889-4437-f378-acf95b23add8"
      },
      "execution_count": null,
      "outputs": [
        {
          "output_type": "execute_result",
          "data": {
            "text/plain": [
              "[0, 1, 2, 3, 4, 5, 6, 7, 8, 9]"
            ]
          },
          "metadata": {},
          "execution_count": 26
        }
      ]
    },
    {
      "cell_type": "code",
      "source": [
        "list (range (5,10))"
      ],
      "metadata": {
        "colab": {
          "base_uri": "https://localhost:8080/"
        },
        "id": "87QtxVkDzyUC",
        "outputId": "65d09406-e320-437e-b9e8-ace77a33011b"
      },
      "execution_count": null,
      "outputs": [
        {
          "output_type": "execute_result",
          "data": {
            "text/plain": [
              "[5, 6, 7, 8, 9]"
            ]
          },
          "metadata": {},
          "execution_count": 44
        }
      ]
    },
    {
      "cell_type": "code",
      "source": [
        "a = list (range (5,50))\n",
        "a [:4]"
      ],
      "metadata": {
        "colab": {
          "base_uri": "https://localhost:8080/"
        },
        "id": "LSXsaIydz8z1",
        "outputId": "9bfd003e-d009-4fef-e689-60e4ec4ea286"
      },
      "execution_count": null,
      "outputs": [
        {
          "output_type": "execute_result",
          "data": {
            "text/plain": [
              "[5, 6, 7, 8]"
            ]
          },
          "metadata": {},
          "execution_count": 46
        }
      ]
    },
    {
      "cell_type": "code",
      "source": [
        "for i in range(1,101):\n",
        "  if i%2 == 0:\n",
        "    print(i)"
      ],
      "metadata": {
        "colab": {
          "base_uri": "https://localhost:8080/"
        },
        "id": "mH1wGVbK2BNd",
        "outputId": "7b45cf36-fdbf-4886-f7a2-aa26c91c44b0"
      },
      "execution_count": null,
      "outputs": [
        {
          "output_type": "stream",
          "name": "stdout",
          "text": [
            "2\n",
            "4\n",
            "6\n",
            "8\n",
            "10\n",
            "12\n",
            "14\n",
            "16\n",
            "18\n",
            "20\n",
            "22\n",
            "24\n",
            "26\n",
            "28\n",
            "30\n",
            "32\n",
            "34\n",
            "36\n",
            "38\n",
            "40\n",
            "42\n",
            "44\n",
            "46\n",
            "48\n",
            "50\n",
            "52\n",
            "54\n",
            "56\n",
            "58\n",
            "60\n",
            "62\n",
            "64\n",
            "66\n",
            "68\n",
            "70\n",
            "72\n",
            "74\n",
            "76\n",
            "78\n",
            "80\n",
            "82\n",
            "84\n",
            "86\n",
            "88\n",
            "90\n",
            "92\n",
            "94\n",
            "96\n",
            "98\n",
            "100\n"
          ]
        }
      ]
    },
    {
      "cell_type": "code",
      "source": [
        "a = [1,2,3,4,5]\n",
        "sum = 0\n",
        "for i in a:\n",
        "  sum = sum + i **2\n",
        "print(sum)\n"
      ],
      "metadata": {
        "colab": {
          "base_uri": "https://localhost:8080/"
        },
        "id": "1F-FaLT12-rf",
        "outputId": "20b46c01-0a20-44b6-9027-52ceb6cd80a7"
      },
      "execution_count": null,
      "outputs": [
        {
          "output_type": "stream",
          "name": "stdout",
          "text": [
            "55\n"
          ]
        }
      ]
    },
    {
      "cell_type": "code",
      "source": [
        "a = \"i am the one who knoks \"\n",
        "\n",
        "for i in a:\n",
        "  print(i)"
      ],
      "metadata": {
        "colab": {
          "base_uri": "https://localhost:8080/"
        },
        "id": "V2QMf7Eu4CEO",
        "outputId": "2362a527-a42c-41b5-cdfb-d4f174a93c7e"
      },
      "execution_count": null,
      "outputs": [
        {
          "output_type": "stream",
          "name": "stdout",
          "text": [
            "i\n",
            " \n",
            "a\n",
            "m\n",
            " \n",
            "t\n",
            "h\n",
            "e\n",
            " \n",
            "o\n",
            "n\n",
            "e\n",
            " \n",
            "w\n",
            "h\n",
            "o\n",
            " \n",
            "k\n",
            "n\n",
            "o\n",
            "k\n",
            "s\n",
            " \n"
          ]
        }
      ]
    },
    {
      "cell_type": "code",
      "source": [
        "heisenberg_quote = \"it ceases to exist without me. No you, you clearly don't know who you are talking to \""
      ],
      "metadata": {
        "id": "zR-ZKJ5t4nfD"
      },
      "execution_count": null,
      "outputs": []
    },
    {
      "cell_type": "code",
      "source": [
        "heisenberg_quote= heisenberg_quote.split(' ')\n",
        "print(heisenberg_quote)"
      ],
      "metadata": {
        "colab": {
          "base_uri": "https://localhost:8080/"
        },
        "id": "wwIp8YNf58lP",
        "outputId": "789a0552-9d46-43a2-c842-6911ff88cc50"
      },
      "execution_count": null,
      "outputs": [
        {
          "output_type": "stream",
          "name": "stdout",
          "text": [
            "['it', 'ceases', 'to', 'exist', 'without', 'me.', 'No', 'you,', 'you', 'clearly', \"don't\", 'know', 'who', 'you', 'are', 'talking', 'to', '']\n"
          ]
        }
      ]
    },
    {
      "cell_type": "code",
      "source": [
        "for i in heisenberg_quote:\n",
        "  print(i)"
      ],
      "metadata": {
        "colab": {
          "base_uri": "https://localhost:8080/"
        },
        "id": "e1FZR-Vs67aw",
        "outputId": "774c1ade-e7c4-458e-c6d0-9449c31b00fb"
      },
      "execution_count": null,
      "outputs": [
        {
          "output_type": "stream",
          "name": "stdout",
          "text": [
            "it\n",
            "ceases\n",
            "to\n",
            "exist\n",
            "without\n",
            "me.\n",
            "No\n",
            "you,\n",
            "you\n",
            "clearly\n",
            "don't\n",
            "know\n",
            "who\n",
            "you\n",
            "are\n",
            "talking\n",
            "to\n",
            "\n"
          ]
        }
      ]
    },
    {
      "cell_type": "code",
      "source": [
        "days = [\"sunday\", \"monday\", \"tuesday\", \"wednesday\", \"thursday\", \"friday\", \"saturday\"]"
      ],
      "metadata": {
        "id": "WI8gBZwU7Qg6"
      },
      "execution_count": null,
      "outputs": []
    },
    {
      "cell_type": "code",
      "source": [
        "for i in days:\n",
        "  print(i[:4])"
      ],
      "metadata": {
        "colab": {
          "base_uri": "https://localhost:8080/"
        },
        "id": "e4zNGY5a_G5q",
        "outputId": "e131dbbc-381a-45f2-a885-3b0803157bb4"
      },
      "execution_count": null,
      "outputs": [
        {
          "output_type": "stream",
          "name": "stdout",
          "text": [
            "sund\n",
            "mond\n",
            "tues\n",
            "wedn\n",
            "thur\n",
            "frid\n",
            "satu\n"
          ]
        }
      ]
    },
    {
      "cell_type": "code",
      "source": [],
      "metadata": {
        "id": "olqXvCpg_DF7"
      },
      "execution_count": null,
      "outputs": []
    },
    {
      "cell_type": "code",
      "source": [
        "[]  #mon\n",
        "    #tues\n",
        "    #wednes\n",
        "    #thurs\n",
        "    #fri\n",
        "    #sat\n",
        "    #sun"
      ],
      "metadata": {
        "colab": {
          "base_uri": "https://localhost:8080/"
        },
        "id": "UWeMq_cC8QAj",
        "outputId": "25b1cfb7-97f2-4c4f-90fc-ad57191b5144"
      },
      "execution_count": null,
      "outputs": [
        {
          "output_type": "execute_result",
          "data": {
            "text/plain": [
              "[]"
            ]
          },
          "metadata": {},
          "execution_count": 56
        }
      ]
    },
    {
      "cell_type": "code",
      "source": [
        "a = {\"mohith\" : \"sharma\", \"rohit\":\"sing\", \"shyam\":\"praksh\", \"mohan\":\"sha\"}\n",
        "print(a.items())"
      ],
      "metadata": {
        "colab": {
          "base_uri": "https://localhost:8080/"
        },
        "id": "FujY0K1N_sq6",
        "outputId": "a1417db4-b76c-4a9d-a715-d4e1d5a30ae8"
      },
      "execution_count": null,
      "outputs": [
        {
          "output_type": "stream",
          "name": "stdout",
          "text": [
            "dict_items([('mohith', 'sharma'), ('rohit', 'sing'), ('shyam', 'praksh'), ('mohan', 'sha')])\n"
          ]
        }
      ]
    },
    {
      "cell_type": "code",
      "source": [
        "for i,j in a.items():\n",
        "  print(i)"
      ],
      "metadata": {
        "colab": {
          "base_uri": "https://localhost:8080/"
        },
        "id": "VoppHl8PEN89",
        "outputId": "21d336ae-17ce-453f-836b-def362412b9c"
      },
      "execution_count": null,
      "outputs": [
        {
          "output_type": "stream",
          "name": "stdout",
          "text": [
            "mohith\n",
            "rohit\n",
            "shyam\n",
            "mohan\n"
          ]
        }
      ]
    },
    {
      "cell_type": "code",
      "source": [
        "for i,j in a.items():\n",
        "  print(j)"
      ],
      "metadata": {
        "colab": {
          "base_uri": "https://localhost:8080/"
        },
        "id": "Q7Fx-5RhE0U-",
        "outputId": "de419f96-7f54-477d-8a99-d14c63e66a14"
      },
      "execution_count": null,
      "outputs": [
        {
          "output_type": "stream",
          "name": "stdout",
          "text": [
            "sharma\n",
            "sing\n",
            "praksh\n",
            "sha\n"
          ]
        }
      ]
    },
    {
      "cell_type": "code",
      "source": [
        "for i,j in a.items():\n",
        "  print(i,j)"
      ],
      "metadata": {
        "colab": {
          "base_uri": "https://localhost:8080/"
        },
        "id": "41oBV4qQE8cC",
        "outputId": "c9243d85-840d-4679-e0a8-8cb0fe09ef8f"
      },
      "execution_count": null,
      "outputs": [
        {
          "output_type": "stream",
          "name": "stdout",
          "text": [
            "mohith sharma\n",
            "rohit sing\n",
            "shyam praksh\n",
            "mohan sha\n"
          ]
        }
      ]
    },
    {
      "cell_type": "code",
      "source": [
        "a = 1\n",
        "while a < 10:\n",
        "  print(\"hello\")\n",
        "  a = a + 1"
      ],
      "metadata": {
        "colab": {
          "base_uri": "https://localhost:8080/"
        },
        "id": "NzMLDQNHFqOZ",
        "outputId": "6491b74c-2e42-4c06-e7d0-450431cf90a4"
      },
      "execution_count": null,
      "outputs": [
        {
          "output_type": "stream",
          "name": "stdout",
          "text": [
            "hello\n",
            "hello\n",
            "hello\n",
            "hello\n",
            "hello\n",
            "hello\n",
            "hello\n",
            "hello\n",
            "hello\n"
          ]
        }
      ]
    },
    {
      "cell_type": "code",
      "source": [
        "a = 10\n",
        "while a < 15:\n",
        "  print(a)\n",
        "  a = a + 1\n",
        "else:\n",
        "    print(\"bye\")"
      ],
      "metadata": {
        "colab": {
          "base_uri": "https://localhost:8080/"
        },
        "id": "OXZmnp19KG6Q",
        "outputId": "3e58c86c-35d0-4e58-ee8b-7905c79dd346"
      },
      "execution_count": null,
      "outputs": [
        {
          "output_type": "stream",
          "name": "stdout",
          "text": [
            "10\n",
            "11\n",
            "12\n",
            "13\n",
            "14\n",
            "bye\n"
          ]
        }
      ]
    },
    {
      "cell_type": "code",
      "source": [
        "a = [1,2,3,4]\n",
        "for i in a:\n",
        "  print(i)\n",
        "  if i == 3:\n",
        "    break"
      ],
      "metadata": {
        "colab": {
          "base_uri": "https://localhost:8080/"
        },
        "id": "nBxbm4SKMOAg",
        "outputId": "6d5578f0-c2c3-4acb-ed36-20c3d0844f6e"
      },
      "execution_count": null,
      "outputs": [
        {
          "output_type": "stream",
          "name": "stdout",
          "text": [
            "1\n",
            "2\n",
            "3\n"
          ]
        }
      ]
    },
    {
      "cell_type": "code",
      "source": [],
      "metadata": {
        "id": "XKYHrUhOMxEx"
      },
      "execution_count": null,
      "outputs": []
    },
    {
      "cell_type": "code",
      "source": [
        "a = [1,2,3,4,5,6]\n",
        "for i in a:\n",
        "  print(i)\n",
        "  if i == 3:\n",
        "    continue\n",
        "    print(i)\n"
      ],
      "metadata": {
        "colab": {
          "base_uri": "https://localhost:8080/"
        },
        "id": "z49Jj4BqM2n-",
        "outputId": "5351587e-316b-4dca-a529-824ca5efd68a"
      },
      "execution_count": null,
      "outputs": [
        {
          "output_type": "stream",
          "name": "stdout",
          "text": [
            "1\n",
            "2\n",
            "3\n",
            "4\n",
            "5\n",
            "6\n"
          ]
        }
      ]
    },
    {
      "cell_type": "code",
      "source": [
        "a = 10\n",
        "if a == 10:\n",
        "  pass"
      ],
      "metadata": {
        "id": "zRshvoQJNkAf"
      },
      "execution_count": null,
      "outputs": []
    }
  ]
}